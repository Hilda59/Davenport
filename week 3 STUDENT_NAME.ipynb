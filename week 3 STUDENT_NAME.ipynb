{
 "cells": [
  {
   "attachments": {},
   "cell_type": "markdown",
   "metadata": {},
   "source": [
    "## Lab Assignment: Numerical Computing using NumPy\n",
    "Student:     **Hilda Micahel**\n",
    "\n",
    "### Objective: To introduce numerical computing in Python using NumPy and understand NumPy arrays and operations.\n",
    "\n",
    "### Instructions:\n",
    "In this lab assignment, you will be introduced to numerical computing in Python using NumPy. You will learn how to create and manipulate NumPy arrays, perform mathematical operations on them, and apply built-in functions to analyze and transform the data.\n",
    "\n",
    "You will be provided with the following five problems to solve. Please read the problem statement carefully and implement the solution using NumPy.\n",
    "\n",
    "1. Create a 1D NumPy array of size 10, filled with zeros.\n",
    "2. Create a 2D NumPy array with shape (3, 4), filled with random values.\n",
    "3. Create a 3D NumPy array with shape (2, 3, 4), filled with ones.\n",
    "4. Add two NumPy arrays element-wise.\n",
    "5. Multiply two NumPy arrays element-wise.\n",
    "\n",
    "### Deliverable:\n",
    "Modify this notebook to include the python code as well as any documentation related to your submission.  Submit the notebook as your response in Blackboard.\n",
    "\n",
    "### Grading Criteria:\n",
    "\n",
    "Your lab assignment will be graded based on the following criteria:\n",
    "\n",
    "- Correctness of the implementation\n",
    "- Proper use of basic control structures and functions\n",
    "- Code efficiency\n",
    "- Clarity and readability of the code\n",
    "- Compliance with the instructions and deliverables.\n",
    "\n",
    "### Student Submission\n",
    "1. Create a 1D NumPy array of size 10, filled with zeros."
   ]
  },
  {
   import numpy as np
# Create a 1D NumPy array of size 10 filled with zeros
array_zeros = np.zeros(10)


# Output the result
print (array_zeros)
  
   "
    "2. Create a 2D NumPy array with shape (3, 4), filled with random values."
   ]
  },import NumPy as np
#Create a 2D array with shape (3,4)filled with random values
random_array= np.random.rand (3,4)
  {
   
  },
  {
   "
    "3. Create a 3D NumPy array with shape (2, 3, 4), filled with ones."
   
  import numpy as np


  array_3d = np.ones ((2,3,4))
   Print(array_3d)
  
   
    "4. Add two NumPy arrays element-wise."
   ]
  } import numpy as np
    array1 = np.array([1,2,3])
    array2= np.array([4,5,6])
    result=np.add (array,array2)
  {
   
  {
   
    "5. Multiply two NumPy arrays element-wise."
   ]
  } import numpy as np
    arr1= np.array([1,2,3])
    arr2= np.array ([4,5,6])

   result = np.multiply (arr1,arr2)
  print(result) # Output will be [4 10 18]

result_operator =arr1 * arr2
print(result_operator) #Output will also be [4 10 18]
  {
   
  }
 ],
 
  },
  2
}
